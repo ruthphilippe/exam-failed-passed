{
 "cells": [
  {
   "cell_type": "markdown",
   "id": "2648b0a1",
   "metadata": {},
   "source": [
    "# Predicting Student Exam Pass/Fail\n",
    "\n",
    "Problem Statement\n",
    "\n",
    "We want to predict wether a student passes(1) or fails(0) based on the number of hours they studied."
   ]
  },
  {
   "cell_type": "code",
   "execution_count": 2,
   "id": "c586c273",
   "metadata": {},
   "outputs": [],
   "source": [
    "#Import libraries\n",
    "\n",
    "import numpy as np\n",
    "import matplotlib.pyplot as plt\n"
   ]
  },
  {
   "cell_type": "code",
   "execution_count": 4,
   "id": "7ccb139f",
   "metadata": {},
   "outputs": [],
   "source": [
    "# Create Dummy set\n",
    "\n",
    "# Hours studied\n",
    "X = np.array([1, 2, 3, 4, 5, 6, 7, 8, 9])\n",
    "\n",
    "#Pass (1) or Fail(0)\n",
    "y = np.array([0, 0, 0, 0, 1, 1, 1, 1, 1])\n",
    "\n",
    "m = len(X)"
   ]
  },
  {
   "cell_type": "code",
   "execution_count": 14,
   "id": "0d330e90",
   "metadata": {},
   "outputs": [],
   "source": [
    "#Sigmoid function\n",
    "\n",
    "def sigmoid(z):\n",
    "    return 1 / (1 + np.exp(-z))"
   ]
  },
  {
   "cell_type": "code",
   "execution_count": 15,
   "id": "be6a350e",
   "metadata": {},
   "outputs": [],
   "source": [
    "#Prediction function\n",
    "\n",
    "def predict(X, w, b):\n",
    "    z = w * X + b\n",
    "    return sigmoid(z)\n",
    "\n"
   ]
  },
  {
   "cell_type": "code",
   "execution_count": 16,
   "id": "a3e07dfd",
   "metadata": {},
   "outputs": [],
   "source": [
    "#Cost function\n",
    "\n",
    "def compute_cost(X, y, w, b):\n",
    "    m = len(y)\n",
    "    predictions = predict(X, w, b)\n",
    "    cost = -(1/m) * np.sum(y*np.log(predictions) + (1-y)*np.log(1-predictions))\n",
    "    return cost"
   ]
  },
  {
   "cell_type": "code",
   "execution_count": 17,
   "id": "f2945dd5",
   "metadata": {},
   "outputs": [],
   "source": [
    "# Gradient descent\n",
    "\n",
    "def gradient_descent(X, y, w, b, alpha, epochs):\n",
    "    m = len(y)\n",
    "    cost_history = []\n",
    "\n",
    "    for _ in range(epochs):\n",
    "        predictions = predict(X, w, b)\n",
    "        error = predictions - y\n",
    "\n",
    "        dw = (1/m) * np.dot(error, X)\n",
    "        db = (1/m) * np.sum(error)\n",
    "\n",
    "        w -= alpha * dw\n",
    "        b -= alpha * db\n",
    "\n",
    "        cost_history.append(compute_cost(X, y, w, b))\n",
    "    return w, b, cost_history"
   ]
  },
  {
   "cell_type": "code",
   "execution_count": 18,
   "id": "70cc9253",
   "metadata": {},
   "outputs": [
    {
     "name": "stdout",
     "output_type": "stream",
     "text": [
      "Learned parameters: w = 1.27, b = -5.45\n",
      "Final cost:  0.1403\n"
     ]
    }
   ],
   "source": [
    "# Model training\n",
    "\n",
    "w, b = 0, 0\n",
    "alpha = 0.1\n",
    "epochs = 1000\n",
    "\n",
    "w, b, cost_history = gradient_descent(X, y, w, b, alpha, epochs)\n",
    "\n",
    "print(f\"Learned parameters: w = {w:.2f}, b = {b:.2f}\")\n",
    "print(f\"Final cost: {cost_history[-1]: .4f}\")"
   ]
  },
  {
   "cell_type": "code",
   "execution_count": 19,
   "id": "413c6c77",
   "metadata": {},
   "outputs": [
    {
     "data": {
      "image/png": "[encoded data removed]",
      "text/plain": [
       "<Figure size 640x480 with 1 Axes>"
      ]
     },
     "metadata": {},
     "output_type": "display_data"
    }
   ],
   "source": [
    "# Visualize desicion boundary\n",
    "\n",
    "plt.scatter(X, y, color=\"blue\", label=\"Data\")\n",
    "plt.plot(X, predict(X, w, b), color =\"red\", label=\"Prediction (Sigmoid)\")\n",
    "plt.xlabel(\"Hours studied\")\n",
    "plt.ylabel(\"Pass Probability\")\n",
    "plt.legend()\n",
    "plt.show()"
   ]
  },
  {
   "cell_type": "code",
   "execution_count": 20,
   "id": "a2eb31f7",
   "metadata": {},
   "outputs": [
    {
     "name": "stdout",
     "output_type": "stream",
     "text": [
      "Probability of passing with 4.5 hours studied: 0.57\n",
      "PredictionsL: PASS!\n"
     ]
    }
   ],
   "source": [
    "# Make predictions\n",
    "\n",
    "hours = 4.5\n",
    "prob = predict(hours, w, b)\n",
    "print(f\"Probability of passing with {hours} hours studied: {prob:.2f}\")\n",
    "\n",
    "if prob >= 0.5:\n",
    "    print(\"PredictionsL: PASS!\")\n",
    "else:\n",
    "    print(\"Prediction: FAIL :(\")"
   ]
  },
  {
   "cell_type": "code",
   "execution_count": null,
   "id": "bce7eb27",
   "metadata": {},
   "outputs": [],
   "source": []
  }
 ],
 "metadata": {
  "kernelspec": {
   "display_name": "Python 3",
   "language": "python",
   "name": "python3"
  },
  "language_info": {
   "codemirror_mode": {
    "name": "ipython",
    "version": 3
   },
   "file_extension": ".py",
   "mimetype": "text/x-python",
   "name": "python",
   "nbconvert_exporter": "python",
   "pygments_lexer": "ipython3",
   "version": "3.13.5"
  }
 },
 "nbformat": 4,
 "nbformat_minor": 5
}
